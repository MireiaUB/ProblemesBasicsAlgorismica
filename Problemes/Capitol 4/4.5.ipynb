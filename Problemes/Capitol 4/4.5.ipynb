{
 "cells": [
  {
   "cell_type": "markdown",
   "metadata": {
    "id": "Wwhw_mq0ZtJB"
   },
   "source": [
    "# Capítol 4 - Algorismes i Text"
   ]
  },
  {
   "cell_type": "markdown",
   "metadata": {
    "id": "8mOc5hGEZtJK"
   },
   "source": [
    "### 4.5 Levensthein (amb la modificació en realitat usem l'algorisme de Smith-Waterman)"
   ]
  },
  {
   "cell_type": "code",
   "execution_count": null,
   "metadata": {
    "id": "XeOUW_g2ZtJL"
   },
   "outputs": [],
   "source": [
    "def levenstheinsmithwaterman(patro, text, dlt = 2, insr = 2, subs = 1):\n",
    "    \"\"\"\n",
    "    Aquesta funció implementa l'algorisme de Levenstheinsmithwaterman.\n",
    "    \n",
    "    Parameters\n",
    "    ----------\n",
    "    patro: string\n",
    "    text: sting\n",
    "    \n",
    "    dlt: int (default)\n",
    "    insr: int (default)\n",
    "    subs: int (default)\n",
    "        Costos d'edició\n",
    "        \n",
    "    Returns\n",
    "    -------\n",
    "    minDistance: int\n",
    "    \"\"\"                          \n",
    "    return min(distance_matrix[max_row-1])\n",
    "\n",
    "\n",
    "\n",
    "def dna(patro, fitxer = 'HUMAN-DNA.txt'):\n",
    "    \"\"\"\n",
    "    Aquesta funció aplica l'algorisme de Levensthein sobre una seqüència del dna per trobar diferents patrons.\n",
    "    \n",
    "    Parameters\n",
    "    ----------\n",
    "    patro: string\n",
    "    fitxer: string (default)\n",
    "    \n",
    "    Returns\n",
    "    -------\n",
    "    linia: int\n",
    "    distanciafinal: int\n",
    "    \"\"\"\n",
    "    return linia, distanciafinal"
   ]
  },
  {
   "cell_type": "code",
   "execution_count": null,
   "metadata": {
    "id": "zJxdjiMtZtJL"
   },
   "outputs": [],
   "source": [
    "assert dna('AGATACATTAGACAATAGAGATGTGGTC') == (32, 11)\n",
    "assert dna('GTCAGTCTGGCCTTGCCATTGGTGCCACCA') == (352, 11)\n",
    "assert dna('TACCGAGAAGCTGGATTACAGCATGTACCATCAT') == (233, 13)"
   ]
  },
  {
   "cell_type": "markdown",
   "metadata": {},
   "source": [
    "Si a més de saber la distància volem saber quins canvis hi ha hagut haurem de modificar els anteriors algorismes per guardar els canvis a cada pas i un cop trobada la distància mínima desfer els passos i anar apuntant els canvis.\n",
    "\n",
    "Recordem que hi pot haver 4 tipus de canvis\n",
    "\n",
    "+ I: Insertion\n",
    "+ D: Deletion\n",
    "+ S: Substitution\n",
    "+ C: Coincidence (no hi ha canvis)\n",
    "\n",
    "Reescriu les anteriors funcions per registrar els canvis i per mostrar-los al final."
   ]
  },
  {
   "cell_type": "code",
   "execution_count": null,
   "metadata": {
    "id": "xDli17b15Rvt"
   },
   "outputs": [],
   "source": [
    "def levenstheinsmithwaterman(patro, text, dlt = 2, insr = 2, subs = 1):\n",
    "    \"\"\"\n",
    "    Aquesta funció implementa l'algorisme de Levenstheinsmithwaterman. \n",
    "    Però a més registra els canvis de cada pas\n",
    "    \n",
    "    Parameters\n",
    "    ----------\n",
    "    patro: string\n",
    "    text: sting\n",
    "    \n",
    "    dlt: int (default)\n",
    "    insr: int (default)\n",
    "    subs: int (default)\n",
    "        Costos d'edició\n",
    "        \n",
    "    Returns\n",
    "    -------\n",
    "    minDistance: int\n",
    "    \"\"\"                          \n",
    "    return min(distance_matrix[max_row-1])\n",
    "\n",
    "\n",
    "\n",
    "def dna(patro, fitxer = 'HUMAN-DNA.txt'):\n",
    "    \"\"\"\n",
    "    Aquesta funció aplica l'algorisme de Levensthein sobre una seqüència del dna per trobar diferents patrons.\n",
    "    I a més ens diu quins canvis hi ha hagut\n",
    "    \n",
    "    Parameters\n",
    "    ----------\n",
    "    patro: string\n",
    "    fitxer: string (default)\n",
    "    \n",
    "    Returns\n",
    "    -------\n",
    "    linia: int\n",
    "    ini,fi: inici i final\n",
    "    distanciafinal: int\n",
    "    movements\n",
    "    \"\"\"\n",
    "\n",
    "\n",
    "    return (linia,(ini, fi), distancialinia, movements)"
   ]
  },
  {
   "cell_type": "code",
   "execution_count": null,
   "metadata": {
    "id": "noP89zZ6ZtJM",
    "outputId": "1842309c-158e-4733-8463-c4019f3a6835"
   },
   "outputs": [
    {
     "data": {
      "text/plain": [
       "(729,\n",
       " (10, 31),\n",
       " 6,\n",
       " ['S',\n",
       "  'C',\n",
       "  'C',\n",
       "  'C',\n",
       "  'C',\n",
       "  'C',\n",
       "  'C',\n",
       "  'C',\n",
       "  'S',\n",
       "  'C',\n",
       "  'S',\n",
       "  'C',\n",
       "  'S',\n",
       "  'S',\n",
       "  'S',\n",
       "  'C',\n",
       "  'C',\n",
       "  'S',\n",
       "  'C',\n",
       "  'C',\n",
       "  'C'])"
      ]
     },
     "execution_count": 44,
     "metadata": {
      "tags": []
     },
     "output_type": "execute_result"
    }
   ],
   "source": [
    "dna(\"CTGGTACCAGCTGTATTAGC\")"
   ]
  },
  {
   "cell_type": "code",
   "execution_count": null,
   "metadata": {
    "id": "IsFqjP25ZtJN",
    "outputId": "bc37d1e4-f2ac-499f-db45-22f7b42372f5"
   },
   "outputs": [
    {
     "data": {
      "text/plain": [
       "(213,\n",
       " (12, 32),\n",
       " 7,\n",
       " ['S',\n",
       "  'C',\n",
       "  'S',\n",
       "  'C',\n",
       "  'C',\n",
       "  'C',\n",
       "  'C',\n",
       "  'C',\n",
       "  'C',\n",
       "  'C',\n",
       "  'C',\n",
       "  'C',\n",
       "  'S',\n",
       "  'S',\n",
       "  'C',\n",
       "  'C',\n",
       "  'S',\n",
       "  'S',\n",
       "  'C',\n",
       "  'S'])"
      ]
     },
     "execution_count": 45,
     "metadata": {
      "tags": []
     },
     "output_type": "execute_result"
    }
   ],
   "source": [
    "dna(\"TCGTCATAAACCGCTGTGCC\")"
   ]
  },
  {
   "cell_type": "code",
   "execution_count": null,
   "metadata": {
    "id": "uCCKL3b4ZtJN"
   },
   "outputs": [],
   "source": [
    "assert dna(\"CTGGTACCAGCTGTATTAGC\") == (728, (11, 31), 6, ['C', 'C', 'C', 'C', 'C', 'C', 'C', 'S', 'C', 'S', 'C', 'S', 'S', 'S', 'C', 'C', 'S', 'C', 'C', 'C'])\n",
    "assert dna(\"TCGTCATAAACCGCTGTGCC\") == (212, (12, 32), 7, ['S', 'C', 'S', 'C', 'C', 'C', 'C', 'C', 'C', 'C', 'C', 'C', 'S', 'S', 'C', 'C', 'S', 'S', 'C', 'S'])\n",
    "assert dna(\"TATACAAACGGAGTAGCTGT\") == (285, (5, 25), 6, ['C', 'C', 'C', 'C', 'S', 'C', 'S', 'C', 'C', 'S', 'C', 'S', 'S', 'C', 'C', 'C', 'S', 'C', 'C', 'C'])\n",
    "assert dna(\"AGGCGTAAGTCTTACGTATA\") == (5, (41, 61), 7, ['C', 'S', 'C', 'S', 'S', 'C', 'C', 'C', 'C', 'C', 'C', 'S', 'C', 'S', 'S', 'C', 'S', 'C', 'C', 'C'])\n",
    "assert dna(\"AACGGCATAGCCTGCAAGAG\") == (433, (41, 61), 5, ['C', 'C', 'S', 'C', 'C', 'C', 'C', 'S', 'C', 'S', 'C', 'C', 'C', 'C', 'C', 'C', 'C', 'S', 'C', 'S'])\n",
    "assert dna(\"GTGCGTCCACCCTTAATACA\") == (196, (41, 61), 6, ['C', 'C', 'C', 'S', 'S', 'C', 'S', 'C', 'C', 'C', 'C', 'C', 'C', 'S', 'C', 'S', 'C', 'C', 'S', 'C'])\n",
    "assert dna(\"CCCTAAAACCAAAAGTGTTG\") == (199, (30, 49), 6, ['S', 'C', 'C', 'C', 'S', 'C', 'C', 'C', 'S', 'S', 'C', 'C', 'C', 'C', 'C', 'C', 'C', 'I', 'C', 'C'])\n",
    "assert dna(\"GTCAGCACCGGGATCTGTAT\") == (240, (26, 46), 7, ['C', 'S', 'C', 'S', 'S', 'C', 'C', 'C', 'C', 'C', 'S', 'C', 'C', 'S', 'C', 'S', 'C', 'C', 'S', 'C'])\n",
    "assert dna(\"GAGCCCCGACGTTTTAACGA\") == (68, (6, 26), 7, ['S', 'C', 'C', 'C', 'C', 'C', 'C', 'S', 'C', 'C', 'S', 'C', 'S', 'C', 'C', 'C', 'S', 'S', 'S', 'C'])\n",
    "assert dna(\"CACACCTTTCAGTACGTGAA\") == (40, (14, 32), 7, ['C', 'C', 'C', 'I', 'C', 'S', 'C', 'C', 'C', 'C', 'C', 'C', 'C', 'C', 'S', 'C', 'I', 'S', 'C', 'C'])\n",
    "assert dna(\"CCTCGTAGACAGTACCGAAT\") == (448, (30, 50), 6, ['C', 'S', 'C', 'C', 'S', 'C', 'C', 'S', 'C', 'C', 'C', 'S', 'C', 'C', 'C', 'C', 'S', 'S', 'C', 'C'])\n",
    "assert dna(\"CGACCAAAGAGCCTGTATCT\") == (320, (35, 55), 7, ['S', 'S', 'C', 'S', 'S', 'C', 'C', 'C', 'C', 'S', 'C', 'S', 'C', 'C', 'S', 'C', 'C', 'C', 'C', 'C'])\n",
    "assert dna(\"CGTGGTGTCCATACCCTAGC\") == (835, (24, 43), 6, ['C', 'S', 'C', 'C', 'C', 'C', 'C', 'S', 'C', 'C', 'C', 'C', 'S', 'C', 'C', 'C', 'I', 'C', 'S', 'C'])\n",
    "assert dna(\"GTGATAGACCTTTTAAGCTG\") == (409, (18, 37), 6, ['S', 'C', 'C', 'C', 'C', 'C', 'I', 'C', 'C', 'C', 'C', 'C', 'S', 'C', 'C', 'C', 'S', 'S', 'C', 'C'])\n",
    "assert dna(\"TAAGTCTTTGGTCACCCCCG\") == (19, (10, 29), 7, ['C', 'S', 'C', 'C', 'C', 'C', 'C', 'S', 'C', 'C', 'C', 'I', 'C', 'C', 'C', 'C', 'S', 'C', 'S', 'S'])\n",
    "assert dna(\"GACACACACTTGGATCTTCG\") == (565, (16, 36), 6, ['C', 'S', 'C', 'C', 'C', 'S', 'S', 'C', 'C', 'C', 'C', 'C', 'S', 'S', 'S', 'C', 'C', 'C', 'C', 'C'])\n",
    "assert dna(\"TCATAGCCTCGGGATAGTAT\") == (306, (27, 46), 7, ['S', 'S', 'C', 'C', 'C', 'C', 'C', 'C', 'C', 'C', 'C', 'S', 'S', 'C', 'C', 'C', 'I', 'C', 'C', 'S'])\n",
    "assert dna(\"CTGGACGTTCATACATAGAC\") == (28, (21, 41), 7, ['C', 'C', 'C', 'C', 'C', 'C', 'S', 'C', 'C', 'S', 'S', 'S', 'C', 'S', 'C', 'S', 'C', 'C', 'C', 'S'])\n",
    "assert dna(\"ACGTTTTACCCCAAAGCCCG\") == (753, (4, 24), 7, ['C', 'S', 'S', 'S', 'S', 'C', 'C', 'C', 'C', 'S', 'C', 'C', 'C', 'C', 'C', 'C', 'S', 'C', 'S', 'C'])\n",
    "assert dna(\"CGGGTAGAAATCTCCGCTTG\") == (361, (30, 50), 6, ['S', 'C', 'C', 'C', 'C', 'C', 'C', 'C', 'S', 'S', 'C', 'C', 'S', 'C', 'C', 'S', 'S', 'C', 'C', 'C'])\n",
    "print(\"All tests passed!\")"
   ]
  }
 ],
 "metadata": {
  "colab": {
   "collapsed_sections": [],
   "name": "4.5.ipynb",
   "provenance": []
  },
  "kernelspec": {
   "display_name": "Python 3 (ipykernel)",
   "language": "python",
   "name": "python3"
  },
  "language_info": {
   "codemirror_mode": {
    "name": "ipython",
    "version": 3
   },
   "file_extension": ".py",
   "mimetype": "text/x-python",
   "name": "python",
   "nbconvert_exporter": "python",
   "pygments_lexer": "ipython3",
   "version": "3.8.13"
  }
 },
 "nbformat": 4,
 "nbformat_minor": 4
}
