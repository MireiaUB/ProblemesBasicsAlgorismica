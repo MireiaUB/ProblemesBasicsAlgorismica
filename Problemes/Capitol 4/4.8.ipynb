{
 "cells": [
  {
   "cell_type": "markdown",
   "metadata": {
    "id": "Wwhw_mq0ZtJB"
   },
   "source": [
    "# Capítol 4 - Algorismes i Text"
   ]
  },
  {
   "cell_type": "markdown",
   "metadata": {
    "id": "pudlg3K5ZtJP"
   },
   "source": [
    "### 4.8 Subseqüència en comú més llarga"
   ]
  },
  {
   "cell_type": "markdown",
   "metadata": {},
   "source": [
    "<div style=\"background-color:rgba(0, 0, 0, 0.2); text-align:left; vertical-align: middle;  border-radius:10px\">\n",
    "    <div style=\"padding: 20px\">\n",
    "    <h3>Correcció d'errates: </h3>\n",
    "        <p>Al final del llibre, hi ha una solució sota el nom <B>\"Problema 4.8, pàgina 60\"</B>. Està mal etiquetat, hauria de ser <B>\"Problema 4.7, pàgina 59\"</B>. Aquest problema <B>NO</B> està resolt al llibre</p>\n",
    "    </div>\n",
    "</div>"
   ]
  },
  {
   "cell_type": "code",
   "execution_count": null,
   "metadata": {
    "id": "ngKWIkPKZtJP"
   },
   "outputs": [],
   "source": [
    "import itertools \n",
    "\n",
    "def subsequencia_comu_v1(paraula1, paraula2):\n",
    "    \"\"\"\n",
    "    Aquesta funció identifica la longitud de la subseqüència mes llarga mitjançanat força bruta.\n",
    "    \n",
    "    Parameters\n",
    "    ----------\n",
    "    paraula1: string\n",
    "    paraula2: string\n",
    "    \n",
    "    Returns\n",
    "    -------\n",
    "    numCaractersComuns: int\n",
    "    \"\"\"\n",
    "    \n",
    "    def extreure_sub_sequencies(paraula):\n",
    "  "
   ]
  },
  {
   "cell_type": "code",
   "execution_count": 19,
   "metadata": {},
   "outputs": [
    {
     "name": "stdout",
     "output_type": "stream",
     "text": [
      "[('S', 'T', 'U'), ('S', 'T', 'T'), ('S', 'T', 'V'), ('S', 'T', 'S'), ('S', 'T', 'T'), ('S', 'U', 'T'), ('S', 'U', 'V'), ('S', 'U', 'S'), ('S', 'U', 'T'), ('S', 'T', 'V'), ('S', 'T', 'S'), ('S', 'T', 'T'), ('S', 'V', 'S'), ('S', 'V', 'T'), ('S', 'S', 'T'), ('T', 'U', 'T'), ('T', 'U', 'V'), ('T', 'U', 'S'), ('T', 'U', 'T'), ('T', 'T', 'V'), ('T', 'T', 'S'), ('T', 'T', 'T'), ('T', 'V', 'S'), ('T', 'V', 'T'), ('T', 'S', 'T'), ('U', 'T', 'V'), ('U', 'T', 'S'), ('U', 'T', 'T'), ('U', 'V', 'S'), ('U', 'V', 'T'), ('U', 'S', 'T'), ('T', 'V', 'S'), ('T', 'V', 'T'), ('T', 'S', 'T'), ('V', 'S', 'T')]\n"
     ]
    }
   ],
   "source": [
    "# demostració itertools\n",
    "# https://docs.python.org/3/library/itertools.html\n",
    "import itertools\n",
    "paraula=\"STUTVST\"\n",
    "llista=list(itertools.combinations(paraula, 3))\n",
    "print(llista)"
   ]
  },
  {
   "cell_type": "code",
   "execution_count": 18,
   "metadata": {},
   "outputs": [
    {
     "name": "stdout",
     "output_type": "stream",
     "text": [
      "{1, 4}\n"
     ]
    }
   ],
   "source": [
    "# demostració intersection\n",
    "c1={1,2,3,4}\n",
    "c2={7,4,1,5}\n",
    "intersect = c1.intersection(c2)\n",
    "print(intersect)"
   ]
  },
  {
   "cell_type": "code",
   "execution_count": null,
   "metadata": {
    "id": "kWKm3RJ_ZtJP"
   },
   "outputs": [],
   "source": [
    "assert subsequencia_comu_v1('STUTVST', 'TVUSTS') == 4"
   ]
  },
  {
   "cell_type": "code",
   "execution_count": null,
   "metadata": {
    "id": "T57xh64vZtJP"
   },
   "outputs": [],
   "source": [
    "def subsequencia_comu_v2(paraula1, paraula2):\n",
    "    # el teu codi\n",
    "    return numCaractersComuns"
   ]
  },
  {
   "cell_type": "code",
   "execution_count": 1,
   "metadata": {
    "id": "auk2BrBtZtJP"
   },
   "outputs": [],
   "source": [
    "def subsequencia_comu_v3(cadena1, cadena2):\n",
    "    \"\"\"\n",
    "    Aquesta funció identifica la longitud de la subseqüència\n",
    "    compartida més llarga. \n",
    "    En aquest algorisme s'optimitzen els càlculs amb una taula on es guarden\n",
    "    les solucions parcials\n",
    "    Parameters\n",
    "    ----------\n",
    "    cadena1: string\n",
    "    cadena2: string \n",
    "        Cadenes en les que buscar la subseqüència\n",
    "        \n",
    "    Returns\n",
    "    -------\n",
    "    numCaractersComuns: int\n",
    "        Longitud de la subseqüència més llarga\n",
    "    \"\"\""
   ]
  },
  {
   "cell_type": "code",
   "execution_count": null,
   "metadata": {
    "id": "LctIuThEZtJP"
   },
   "outputs": [],
   "source": [
    "assert subsequencia_comu_v3('XMJYAUZ','MZJAWU') == 4"
   ]
  },
  {
   "cell_type": "markdown",
   "metadata": {
    "id": "-3uU250EZtJQ"
   },
   "source": [
    " La complexitat de l'algorisme és O( )."
   ]
  }
 ],
 "metadata": {
  "colab": {
   "collapsed_sections": [],
   "name": "4.8.ipynb",
   "provenance": []
  },
  "kernelspec": {
   "display_name": "Python 3 (ipykernel)",
   "language": "python",
   "name": "python3"
  },
  "language_info": {
   "codemirror_mode": {
    "name": "ipython",
    "version": 3
   },
   "file_extension": ".py",
   "mimetype": "text/x-python",
   "name": "python",
   "nbconvert_exporter": "python",
   "pygments_lexer": "ipython3",
   "version": "3.9.13"
  }
 },
 "nbformat": 4,
 "nbformat_minor": 4
}
