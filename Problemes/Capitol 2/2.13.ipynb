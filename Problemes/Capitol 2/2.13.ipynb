{
 "cells": [
  {
   "cell_type": "markdown",
   "metadata": {
    "id": "lLECUb6bKWu9"
   },
   "source": [
    "# Capítol 2 - Algorismes bàsics de Python"
   ]
  },
  {
   "cell_type": "markdown",
   "metadata": {
    "id": "_Tqj6So3KWvP"
   },
   "source": [
    "### 2.13  Nombres perfectes"
   ]
  },
  {
   "cell_type": "code",
   "execution_count": 1,
   "metadata": {},
   "outputs": [],
   "source": [
    "def divisors(n):\n",
    "    llista = []\n",
    "    i = 1\n",
    "    while n != 1 and i < n:\n",
    "        if n%i == 0:\n",
    "            llista.append(i)\n",
    "        i += 1\n",
    "    return llista"
   ]
  },
  {
   "cell_type": "code",
   "execution_count": 3,
   "metadata": {},
   "outputs": [
    {
     "name": "stdout",
     "output_type": "stream",
     "text": [
      "[1, 2, 4, 7, 14]\n"
     ]
    }
   ],
   "source": [
    "print(divisors(28))"
   ]
  },
  {
   "cell_type": "code",
   "execution_count": null,
   "metadata": {
    "id": "40i6rrC6KWvP"
   },
   "outputs": [],
   "source": [
    "def perfecte(num):\n",
    "    \"\"\"\n",
    "    Aquesta funció comprova si un nombre es perfecte.\n",
    "    \n",
    "    Parameters\n",
    "    ----------\n",
    "    num: int\n",
    "        El número que es vol comprovar\n",
    "    \n",
    "    Returns\n",
    "    -------\n",
    "    b: bool\n",
    "        Si el nombre d'entrada és un nombre perfecte\n",
    "    \n",
    "    \"\"\"\n",
    "    acumulador = 0\n",
    "    for i in divisors(num):\n",
    "        acumulador += i\n",
    "    return acumulador == num"
   ]
  },
  {
   "cell_type": "code",
   "execution_count": null,
   "metadata": {},
   "outputs": [],
   "source": [
    "llista = [1,2,3,4,5,2,3,5]\n",
    "if len(llista) != 0:\n",
    "    maxim = llista[0]\n",
    "    minim = llista[0]\n",
    "    mitjana = 0\n",
    "    for i in llista:\n",
    "        if i > maxim:\n",
    "            maxim = i\n",
    "        if i < minim:\n",
    "            minim = i\n",
    "        mitjana += i\n",
    "    mitjana /= len(llista)"
   ]
  },
  {
   "cell_type": "code",
   "execution_count": null,
   "metadata": {},
   "outputs": [],
   "source": [
    "maxim = max(llista)\n",
    "minim = min(llista)\n",
    "mitjana = sum(llista)/len(llista)-1"
   ]
  },
  {
   "cell_type": "code",
   "execution_count": 6,
   "metadata": {},
   "outputs": [
    {
     "name": "stdout",
     "output_type": "stream",
     "text": [
      "[[0, 1, 2, 3], [0, 1, 2, 3], [0, 1, 2, 3]]\n"
     ]
    }
   ],
   "source": [
    "mat = []\n",
    "for i in range(3):\n",
    "    llista = []\n",
    "\n",
    "    for i in range(0,4):\n",
    "        llista.append(i)\n",
    "    mat.append(llista)\n",
    "print(mat)"
   ]
  },
  {
   "cell_type": "code",
   "execution_count": 7,
   "metadata": {},
   "outputs": [
    {
     "name": "stdout",
     "output_type": "stream",
     "text": [
      "9\n"
     ]
    }
   ],
   "source": [
    "mat = [[1,2,3],[4,7,4],[1,-2,3],[4,9,-3]]\n",
    "maxim = 0\n",
    "for i in mat:\n",
    "    for j in i:\n",
    "        if j > maxim:\n",
    "            maxim = j\n",
    "print(maxim)"
   ]
  },
  {
   "cell_type": "code",
   "execution_count": 15,
   "metadata": {},
   "outputs": [],
   "source": [
    "def display(mat):\n",
    "    for fila in mat:\n",
    "        print(fila)\n",
    "    print(\"----------\")"
   ]
  },
  {
   "cell_type": "code",
   "execution_count": 23,
   "metadata": {
    "scrolled": true
   },
   "outputs": [
    {
     "name": "stdout",
     "output_type": "stream",
     "text": [
      "[0, 1, 2, 3, 4]\n",
      "[1, 0, 0, 0, 0]\n",
      "[2, 0, 0, 0, 0]\n",
      "[3, 0, 0, 0, 0]\n",
      "[4, 0, 0, 0, 0]\n",
      "----------\n",
      "[0, 1, 2, 3, 4]\n",
      "[1, 0, 1, 2, 3]\n",
      "[2, 1, 1, 2, 3]\n",
      "[3, 2, 2, 2, 3]\n",
      "[4, 3, 2, 3, 2]\n",
      "----------\n"
     ]
    }
   ],
   "source": [
    "mat = [[0,1,2,3,4],[1,0,0,0,0],[2,0,0,0,0],[3,0,0,0,0],[4,0,0,0,0] ]\n",
    "text = \"mama\"\n",
    "patro = \"mopa\"\n",
    "display(mat)\n",
    "\n",
    "for i in range(1,len(mat)):   #   O(files)\n",
    "    for j in range(1,len(mat[i])):  # O(columnes)\n",
    "        insercio = mat[i][j-1] + 1\n",
    "        eliminacio = mat[i-1][j] + 1\n",
    "        sustitucio = mat[i-1][j-1]\n",
    "        if patro[i-1] != text[j-1]:\n",
    "            sustitucio += 1\n",
    "        #print(insercio, eliminacio, sustitucio)\n",
    "        mat[i][j] = min(insercio, eliminacio, sustitucio) #O(3) = O(1)\n",
    "display(mat) #O(files)\n"
   ]
  },
  {
   "cell_type": "code",
   "execution_count": null,
   "metadata": {
    "id": "uBdBeEN-KWvP"
   },
   "outputs": [],
   "source": [
    "assert perfecte(28) == True\n",
    "assert perfecte(6) == True\n",
    "assert perfecte(8) == False"
   ]
  },
  {
   "cell_type": "code",
   "execution_count": 33,
   "metadata": {
    "scrolled": true
   },
   "outputs": [
    {
     "ename": "FileNotFoundError",
     "evalue": "[Errno 2] No such file or directory: 'a.txt'",
     "output_type": "error",
     "traceback": [
      "\u001b[1;31m---------------------------------------------------------------------------\u001b[0m",
      "\u001b[1;31mFileNotFoundError\u001b[0m                         Traceback (most recent call last)",
      "\u001b[1;32m~\\AppData\\Local\\Temp\\ipykernel_15848\\1306878986.py\u001b[0m in \u001b[0;36m<module>\u001b[1;34m\u001b[0m\n\u001b[1;32m----> 1\u001b[1;33m \u001b[0mentrada\u001b[0m \u001b[1;33m=\u001b[0m \u001b[0mopen\u001b[0m\u001b[1;33m(\u001b[0m\u001b[1;34m\"a.txt\"\u001b[0m\u001b[1;33m,\u001b[0m \u001b[1;34m\"r\"\u001b[0m\u001b[1;33m)\u001b[0m\u001b[1;33m\u001b[0m\u001b[1;33m\u001b[0m\u001b[0m\n\u001b[0m\u001b[0;32m      2\u001b[0m \u001b[0mlinies\u001b[0m \u001b[1;33m=\u001b[0m \u001b[0mentrada\u001b[0m\u001b[1;33m.\u001b[0m\u001b[0mreadlines\u001b[0m\u001b[1;33m(\u001b[0m\u001b[1;33m)\u001b[0m\u001b[1;33m\u001b[0m\u001b[1;33m\u001b[0m\u001b[0m\n\u001b[0;32m      3\u001b[0m \u001b[0mentrada\u001b[0m\u001b[1;33m.\u001b[0m\u001b[0mclose\u001b[0m\u001b[1;33m(\u001b[0m\u001b[1;33m)\u001b[0m\u001b[1;33m\u001b[0m\u001b[1;33m\u001b[0m\u001b[0m\n\u001b[0;32m      4\u001b[0m \u001b[1;33m\u001b[0m\u001b[0m\n\u001b[0;32m      5\u001b[0m \u001b[0mprint\u001b[0m\u001b[1;33m(\u001b[0m\u001b[0mlinies\u001b[0m\u001b[1;33m)\u001b[0m\u001b[1;33m\u001b[0m\u001b[1;33m\u001b[0m\u001b[0m\n",
      "\u001b[1;31mFileNotFoundError\u001b[0m: [Errno 2] No such file or directory: 'a.txt'"
     ]
    }
   ],
   "source": [
    "entrada = open(\"a.txt\", \"r\")\n",
    "linies = entrada.readlines()\n",
    "entrada.close()\n",
    "\n",
    "print(linies)\n",
    "for numero in linies:\n",
    "    n = int(numero)\n",
    "    print(2*n)\n",
    "    \n",
    "sortida = open(\"b.txt\", \"w\")\n",
    "for numero in linies:\n",
    "    n = int(numero)\n",
    "    sortida.write(str(2*n))\n",
    "sortida.close()"
   ]
  },
  {
   "cell_type": "code",
   "execution_count": null,
   "metadata": {},
   "outputs": [],
   "source": [
    "def text(f_entrada, f_sortida):\n",
    "    entrada = open(f_entrada, \"r\")"
   ]
  }
 ],
 "metadata": {
  "colab": {
   "collapsed_sections": [],
   "name": "2.13.ipynb",
   "provenance": []
  },
  "kernelspec": {
   "display_name": "Python 3 (ipykernel)",
   "language": "python",
   "name": "python3"
  },
  "language_info": {
   "codemirror_mode": {
    "name": "ipython",
    "version": 3
   },
   "file_extension": ".py",
   "mimetype": "text/x-python",
   "name": "python",
   "nbconvert_exporter": "python",
   "pygments_lexer": "ipython3",
   "version": "3.9.13"
  }
 },
 "nbformat": 4,
 "nbformat_minor": 4
}
