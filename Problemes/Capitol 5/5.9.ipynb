{
 "cells": [
  {
   "cell_type": "markdown",
   "metadata": {
    "id": "AcUwk4fIi0qR"
   },
   "source": [
    "# Capítol 5 - Dividir i Vèncer"
   ]
  },
  {
   "cell_type": "markdown",
   "metadata": {
    "id": "3Sw3INvri0qd"
   },
   "source": [
    "### 5.9 Valor igual al seu índex"
   ]
  },
  {
   "cell_type": "code",
   "execution_count": 1,
   "metadata": {
    "id": "VrFjoJqXi0qd"
   },
   "outputs": [],
   "source": [
    "def existeix(llista):\n",
    "    \"\"\"\n",
    "    Aquesta funció comprova si existeix un element tal que llista[i] = i.\n",
    "    \n",
    "    Parameters\n",
    "    ----------\n",
    "    llista: list\n",
    "    \n",
    "    Returns\n",
    "    -------\n",
    "    bExisteix: bool\n",
    "    \"\"\"\n",
    "    return bExisteix"
   ]
  },
  {
   "cell_type": "code",
   "execution_count": null,
   "metadata": {
    "id": "uV0GCC3Gi0qd"
   },
   "outputs": [],
   "source": [
    "assert existeix([1, 4, 5, 6, 7]) == False\n",
    "assert existeix([0, 1, 2, 7]) == True\n",
    "assert existeix([-1, 1, 4, 8]) == True\n",
    "assert existeix([-5, -3, 0, 1, 5, 7]) == False"
   ]
  }
 ],
 "metadata": {
  "colab": {
   "collapsed_sections": [],
   "name": "5.9.ipynb",
   "provenance": []
  },
  "kernelspec": {
   "display_name": "Python 3 (ipykernel)",
   "language": "python",
   "name": "python3"
  },
  "language_info": {
   "codemirror_mode": {
    "name": "ipython",
    "version": 3
   },
   "file_extension": ".py",
   "mimetype": "text/x-python",
   "name": "python",
   "nbconvert_exporter": "python",
   "pygments_lexer": "ipython3",
   "version": "3.9.12"
  },
  "toc": {
   "base_numbering": 1,
   "nav_menu": {},
   "number_sections": true,
   "sideBar": true,
   "skip_h1_title": false,
   "title_cell": "Table of Contents",
   "title_sidebar": "Contents",
   "toc_cell": false,
   "toc_position": {},
   "toc_section_display": true,
   "toc_window_display": false
  }
 },
 "nbformat": 4,
 "nbformat_minor": 1
}
