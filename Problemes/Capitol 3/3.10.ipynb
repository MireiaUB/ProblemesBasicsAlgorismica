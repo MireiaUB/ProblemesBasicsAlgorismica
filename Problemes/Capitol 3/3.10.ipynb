{
 "cells": [
  {
   "cell_type": "markdown",
   "metadata": {
    "id": "Tq8bG1MNUhzi"
   },
   "source": [
    "# Capítol 3 - Algorismes i Nombres"
   ]
  },
  {
   "cell_type": "markdown",
   "metadata": {
    "id": "c-_iKOw1Uhz1"
   },
   "source": [
    "### 3.10 Restriccions múltiples o operacions amb condicions"
   ]
  },
  {
   "cell_type": "markdown",
   "metadata": {},
   "source": [
    "<div style=\"background-color:rgba(0, 0, 0, 0.2); text-align:left; vertical-align: middle;  border-radius:10px\">\n",
    "    <div style=\"padding: 20px\">\n",
    "    <h3>Correcció d'errates: </h3>\n",
    "        <p>Al llibre demana <I>2. n = m x m per algun m</I>. Aquest m ha de ser un nombre enter, per tant, l'enunciat quedaria reformulat com:</p>\n",
    "        <p><B>1. Tres condicions</B> Fes una funció que trobi el nombre <I>n</I> més gran tal que compleixi les tres condicons següents: <br>&nbsp;&nbsp;&nbsp;&nbsp;1. n &lt; 10.000<br>&nbsp;&nbsp;&nbsp;&nbsp;2. n = m x m per algun m enter<br>&nbsp;&nbsp;&nbsp;&nbsp;3. n = k! + 1 per algun k.</p>\n",
    "    </div>\n",
    "</div>"
   ]
  },
  {
   "cell_type": "code",
   "execution_count": null,
   "metadata": {
    "id": "K6KN3OaPUhz1"
   },
   "outputs": [],
   "source": [
    "import math\n",
    "def numero_3_condicions():\n",
    "    \"\"\"\n",
    "    Aquesta funció troba els numeros que compleixen les tres condicions demanades\n",
    "    \n",
    "    Returns\n",
    "    -------\n",
    "    buscat: int\n",
    "    \"\"\"\n",
    "    return buscat  "
   ]
  },
  {
   "cell_type": "code",
   "execution_count": null,
   "metadata": {
    "id": "d61cb0SlUhz1"
   },
   "outputs": [],
   "source": [
    "assert numero_3_condicions() == 5041"
   ]
  },
  {
   "cell_type": "code",
   "execution_count": null,
   "metadata": {
    "id": "lk6WQmxEUhz1"
   },
   "outputs": [],
   "source": [
    "import math\n",
    "\n",
    "def setmanes_segons():\n",
    "    \"\"\"\n",
    "    Aquesta funció troba tots els nombres de setmanes N que tenen \n",
    "    un nombre de segons S tal que S = K! per algun k < 100\n",
    "    \n",
    "    Returns\n",
    "    -------\n",
    "    res: list\n",
    "    \"\"\"\n",
    "    return n_setmanes"
   ]
  },
  {
   "cell_type": "code",
   "execution_count": null,
   "metadata": {
    "id": "-2ecLT2iUhz1"
   },
   "outputs": [],
   "source": [
    "assert setmanes_segons() == [6, 66, 792]"
   ]
  },
  {
   "cell_type": "code",
   "execution_count": null,
   "metadata": {
    "id": "EOySbCCKUhz2"
   },
   "outputs": [],
   "source": [
    "import math\n",
    "def quadrats(n):\n",
    "    \"\"\"\n",
    "    Aquesta funció troba dos nombres positius tals que la suma \n",
    "    dels seus quadrats sigui n.\n",
    "    \n",
    "    Parameters\n",
    "    ----------\n",
    "    n: int\n",
    "    \n",
    "    Returns\n",
    "    -------\n",
    "    quadrats: (int, int)\n",
    "    \"\"\"\n"
   ]
  },
  {
   "cell_type": "code",
   "execution_count": null,
   "metadata": {
    "id": "xoQEfKtVUhz2"
   },
   "outputs": [],
   "source": [
    "assert quadrats(125) == (2,11)\n",
    "assert quadrats(106) == (5,9)\n",
    "assert quadrats(81) == (-1,-1)"
   ]
  },
  {
   "cell_type": "code",
   "execution_count": null,
   "metadata": {
    "id": "whD6bSDNUhz2"
   },
   "outputs": [],
   "source": [
    "def multiples():\n",
    "    \"\"\"\n",
    "    Aquesta funció retorna la suma de tots els naturals que \n",
    "    són múltiples de 3 o 5 i que son menors de 1000.\n",
    "    \n",
    "    Returns\n",
    "    -------\n",
    "    suma : int\n",
    "    \"\"\"\n"
   ]
  },
  {
   "cell_type": "code",
   "execution_count": null,
   "metadata": {
    "id": "H0gwlEqvUhz2"
   },
   "outputs": [],
   "source": [
    "assert multiples() == 233168"
   ]
  }
 ],
 "metadata": {
  "colab": {
   "collapsed_sections": [],
   "name": "3.10.ipynb",
   "provenance": []
  },
  "kernelspec": {
   "display_name": "Python 3 (ipykernel)",
   "language": "python",
   "name": "python3"
  },
  "language_info": {
   "codemirror_mode": {
    "name": "ipython",
    "version": 3
   },
   "file_extension": ".py",
   "mimetype": "text/x-python",
   "name": "python",
   "nbconvert_exporter": "python",
   "pygments_lexer": "ipython3",
   "version": "3.9.13"
  },
  "vscode": {
   "interpreter": {
    "hash": "b7d5521a80c2c370047c8b3946d4b51cbe9eac44fad1075e96f476b66b4a61cb"
   }
  }
 },
 "nbformat": 4,
 "nbformat_minor": 4
}
