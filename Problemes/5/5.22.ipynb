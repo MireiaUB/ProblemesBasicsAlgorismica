{
 "cells": [
  {
   "cell_type": "markdown",
   "metadata": {
    "id": "1rQeW3F3lk-b"
   },
   "source": [
    "# Capítol 5 - Dividir i Vèncer"
   ]
  },
  {
   "cell_type": "markdown",
   "metadata": {
    "id": "zfJVB5Gslk-5"
   },
   "source": [
    "### 5.22 Ordenar llista aparellada"
   ]
  },
  {
   "cell_type": "markdown",
   "metadata": {},
   "source": [
    "Suposem que necessitem ordenar llistes els nombres de les quals apareixen duplicats, un darrere l'altre. Per exemple, la llista [1, 1, 4, 4, 3, 3, 5, 5]. Prova els algorismes d'ordenació quicksort i mergesort. Calcula la complexitat d'aquests dos algorismes a nivell de comparacions i d'intercanvis d'elements. Mesura el temps d'execució del teu programa per a cadascun. "
   ]
  },
  {
   "cell_type": "markdown",
   "metadata": {},
   "source": [
    "Observa que, en aquest cas, no es demana que el programa retorni res, només ha de reordenar la llista d'entrada.\n",
    "\n",
    "No utilitzis funcions d'ordenació específiques de Python."
   ]
  },
  {
   "cell_type": "code",
   "execution_count": null,
   "metadata": {
    "id": "o7MB7CStlk-5"
   },
   "outputs": [],
   "source": [
    "def mergesortParelles(llista):\n",
    "    \"\"\"\n",
    "    Aquesta funció va partint la llista en una banda dreta i una esquerra\n",
    "    fins que aquestes bandes tenen un element quan ho aconsegueix, \n",
    "    crida merge per fusionar ambdues bandes de manera ordenada\n",
    "    fins arribar a fusionar la llista completa original.\n",
    "    \"\"\""
   ]
  },
  {
   "cell_type": "code",
   "execution_count": null,
   "metadata": {
    "id": "ey5xo0DZlk-5",
    "outputId": "308e0cf2-b0d3-480e-bddd-102f9b58dc63"
   },
   "outputs": [
    {
     "name": "stdout",
     "output_type": "stream",
     "text": [
      "CPU times: user 0 ns, sys: 0 ns, total: 0 ns\n",
      "Wall time: 51.3 µs\n"
     ]
    },
    {
     "data": {
      "text/plain": [
       "[1, 1, 2, 2, 3, 3, 5, 5, 7, 7]"
      ]
     },
     "execution_count": 50,
     "metadata": {
      "tags": []
     },
     "output_type": "execute_result"
    }
   ],
   "source": [
    "%%time\n",
    "mergesortParelles([1, 1, 7, 7, 2, 2, 3, 3, 5, 5])"
   ]
  },
  {
   "cell_type": "code",
   "execution_count": null,
   "metadata": {
    "id": "LAkrUEhwlk-5"
   },
   "outputs": [],
   "source": [
    "def quick_sortParelles(A): "
   ]
  },
  {
   "cell_type": "code",
   "execution_count": null,
   "metadata": {
    "id": "HVq549DTlk-6",
    "outputId": "5da55dd1-16a1-40b8-e449-e0786afdf809"
   },
   "outputs": [
    {
     "name": "stdout",
     "output_type": "stream",
     "text": [
      "[1, 1, 2, 2, 3, 3, 5, 5, 7, 7]\n",
      "CPU times: user 0 ns, sys: 0 ns, total: 0 ns\n",
      "Wall time: 154 µs\n"
     ]
    }
   ],
   "source": [
    "%%time\n",
    "A = [1, 1, 7, 7, 2, 2, 3, 3, 5, 5]\n",
    "quick_sortParelles(A)\n",
    "print(A)"
   ]
  }
 ],
 "metadata": {
  "colab": {
   "collapsed_sections": [],
   "name": "5.22.ipynb",
   "provenance": []
  },
  "kernelspec": {
   "display_name": "Python 3 (ipykernel)",
   "language": "python",
   "name": "python3"
  },
  "language_info": {
   "codemirror_mode": {
    "name": "ipython",
    "version": 3
   },
   "file_extension": ".py",
   "mimetype": "text/x-python",
   "name": "python",
   "nbconvert_exporter": "python",
   "pygments_lexer": "ipython3",
   "version": "3.9.7"
  }
 },
 "nbformat": 4,
 "nbformat_minor": 1
}
