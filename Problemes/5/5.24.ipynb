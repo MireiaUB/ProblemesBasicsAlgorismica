{
 "cells": [
  {
   "cell_type": "markdown",
   "metadata": {
    "id": "AAas650wnvvS"
   },
   "source": [
    "# Capítol 5 - Dividir i Vèncer"
   ]
  },
  {
   "cell_type": "markdown",
   "metadata": {
    "id": "59HcX9a0nvvs"
   },
   "source": [
    "### 5.24 Xifres i lletres"
   ]
  },
  {
   "cell_type": "markdown",
   "metadata": {},
   "source": [
    "Considera una llista de cadenes de text ab dos tipus de dades diferentes: cadenes de lletres i cadenes de nombres, com ara la llista ``['aa', '123', 'bc', '98']``. L'objectiu d'aquest problema és ordenar aquesta llista de manera que les cadenes formades per nombres quedin al capdavant. Aquest algorisme no ha de retornar res, només ha de modificar la llista d'entrada.\n",
    "\n",
    "Escriu una funció ``xifres_lletres_ord_sel`` que resolgui el problema usant el mètode d'**ordenació per selecció**. Demostra que la complexitat de l'algorisme que has escrit és $\\mathcal{O}(n^2)$."
   ]
  },
  {
   "cell_type": "code",
   "execution_count": null,
   "metadata": {
    "id": "AE2SWLB0nvvs"
   },
   "outputs": [],
   "source": [
    "# Ordenació per selecció\n",
    "def xifres_lletres_ord_sel(llista):\n",
    "    \"\"\"\n",
    "    Aquesta funció modifica la llista separant lletres i xifres\n",
    "    \n",
    "    Parameters\n",
    "    ----------\n",
    "    llista: list\n",
    "    \n",
    "    Returns\n",
    "    -------\n",
    "    None\n",
    "    \n",
    "    \"\"\"\n"
   ]
  },
  {
   "cell_type": "code",
   "execution_count": null,
   "metadata": {
    "id": "pof_uujUnvvs",
    "outputId": "2be43e73-5724-4b36-862b-675443448b8d"
   },
   "outputs": [
    {
     "data": {
      "text/plain": [
       "['456', '789', '870', '123', 'tzu', 'abc', 'zzz']"
      ]
     },
     "execution_count": 90,
     "metadata": {
      "tags": []
     },
     "output_type": "execute_result"
    }
   ],
   "source": [
    "llista = [\"456\",\"789\",\"abc\",\"123\",\"tzu\",\"870\",\"zzz\"]\n",
    "xifres_lletres_ord_QS(llista)\n",
    "llista"
   ]
  },
  {
   "cell_type": "markdown",
   "metadata": {
    "id": "KEliyz7Mnvvt"
   },
   "source": [
    "La complexitat de l'algorisme és $O( )$: \n",
    "\n"
   ]
  },
  {
   "cell_type": "markdown",
   "metadata": {},
   "source": [
    "Escriu una funció ``xifres_lletres_ord_QS`` que resolugi el problema usant el mètode de ***quicksort***. Demostra que la complexitat de l'algorisme que has éscrit és $\\mathcal{O}(n\\,log(n))$."
   ]
  },
  {
   "cell_type": "code",
   "execution_count": null,
   "metadata": {
    "id": "VNiVWQaGnvvt"
   },
   "outputs": [],
   "source": [
    "# quicksort lineal\n",
    "def xifres_lletres_ord_QS(llista):\n",
    "    \"\"\"\n",
    "    Aquesta funció modifica la llista separant lletres i xifres\n",
    "    \n",
    "    Parameters\n",
    "    ----------\n",
    "    llista: list\n",
    "    \n",
    "    Returns\n",
    "    -------\n",
    "    None\n",
    "    \n",
    "    \"\"\"\n",
    "        \n"
   ]
  },
  {
   "cell_type": "code",
   "execution_count": null,
   "metadata": {
    "id": "hMMHkARonvvt",
    "outputId": "07cf6cce-b1b1-4212-9d10-a38328b36c34"
   },
   "outputs": [
    {
     "data": {
      "text/plain": [
       "['456', '789', '870', '123', 'tzu', 'abc', 'zzz']"
      ]
     },
     "execution_count": 12,
     "metadata": {
      "tags": []
     },
     "output_type": "execute_result"
    }
   ],
   "source": [
    "llista = [\"456\",\"789\",\"abc\",\"123\",\"tzu\",\"870\",\"zzz\"]\n",
    "#llista = [\"tzu\",\"zzz\",\"abc\",\"ggg\",\"456\",\"789\",\"870\"]\n",
    "xifres_lletres_ord_QS(llista)\n",
    "llista"
   ]
  },
  {
   "cell_type": "markdown",
   "metadata": {
    "id": "mfoUYZxknvvt"
   },
   "source": [
    "La complexitat de l'algorisme és $O( )$: \n"
   ]
  }
 ],
 "metadata": {
  "colab": {
   "collapsed_sections": [],
   "name": "5.24.ipynb",
   "provenance": []
  },
  "kernelspec": {
   "display_name": "Python 3 (ipykernel)",
   "language": "python",
   "name": "python3"
  },
  "language_info": {
   "codemirror_mode": {
    "name": "ipython",
    "version": 3
   },
   "file_extension": ".py",
   "mimetype": "text/x-python",
   "name": "python",
   "nbconvert_exporter": "python",
   "pygments_lexer": "ipython3",
   "version": "3.9.7"
  }
 },
 "nbformat": 4,
 "nbformat_minor": 1
}
